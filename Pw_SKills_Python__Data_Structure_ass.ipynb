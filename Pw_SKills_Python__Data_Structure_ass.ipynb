{
  "nbformat": 4,
  "nbformat_minor": 0,
  "metadata": {
    "colab": {
      "provenance": []
    },
    "kernelspec": {
      "name": "python3",
      "display_name": "Python 3"
    },
    "language_info": {
      "name": "python"
    }
  },
  "cells": [
    {
      "cell_type": "markdown",
      "source": [
        "#Data Types and Structures Questions\n"
      ],
      "metadata": {
        "id": "cbaiZPOKRy7u"
      }
    },
    {
      "cell_type": "code",
      "source": [
        "Therory=\"\"\"Here are the answers to your questions:\n",
        "\n",
        "1. What are data structures, and why are they important?\n",
        "   Data structures are ways of organizing and storing data efficiently.\n",
        "   They are important because they help in optimizing operations such as searching, sorting, inserting, and deleting data, making programs more efficient and scalable.\n",
        "\n",
        "2. Explain the difference between mutable and immutable data types with examples.\n",
        "   1.Mutable data types can be changed after creation.\n",
        "  Example: `list`, `dictionary`, `set`.\n",
        "\n",
        "  2.Immutable data types cannot be changed after creation.\n",
        "   Example: `tuple`, `string`, `int`.\n",
        "\n",
        "\n",
        "\n",
        "3. What are the main differences between lists and tuples in Python?\n",
        "   Lists* are mutable, tuples are immutable.\n",
        "   1.Lists have more built-in methods, tuples have fewer.\n",
        "   2.Tuples are generally faster than lists due to immutability.\n",
        "\n",
        "4. Describe how dictionaries store data.\n",
        "   Dictionaries store data in key-value pairs using a hash table, where keys are hashed to determine where their values are stored.\n",
        "\n",
        "5. Why might you use a set instead of a list in Python?\n",
        "   1.Sets do not allow duplicate values.\n",
        "   2. Sets provide faster lookups compared to lists (average O(1) time complexity).\n",
        "\n",
        "6. What is a string in Python, and how is it different from a list?\n",
        "   A string is an immutable sequence of characters, whereas a list is mutable and can hold different types of data.\n",
        "\n",
        "7. How do tuples ensure data integrity in Python?\n",
        "   Since tuples are immutable, their contents cannot be changed accidentally, making them useful for storing fixed data.\n",
        "\n",
        "8. What is a hash table, and how does it relate to dictionaries in Python?\n",
        "   A hash table is a data structure that stores key-value pairs using a hashing function. Python’s dictionaries use hash tables for fast data retrieval.\n",
        "\n",
        "9. Can lists contain different data types in Python?\n",
        "   Yes, lists can contain multiple data types:\n",
        "   Example:my_list = [1, \"hello\", 3.14, [1, 2, 3]]\n",
        "\n",
        "\n",
        "10. Explain why strings are immutable in Python.\n",
        "    Strings are immutable to ensure security, optimize memory usage, and allow efficient string operations.\n",
        "\n",
        "11. What advantages do dictionaries offer over lists for certain tasks?\n",
        "    - Faster lookups (O(1) vs O(n) for lists).\n",
        "    - Data retrieval based on unique keys instead of index positions.\n",
        "\n",
        "12. Describe a scenario where using a tuple would be preferable over a list.\n",
        "    Storing coordinates `(x, y)` or fixed configuration values where modification is not needed.\n",
        "\n",
        "13. How do sets handle duplicate values in Python?\n",
        "    Sets automatically remove duplicates when elements are added.\n",
        "\n",
        "14. How does the `in` keyword work differently for lists and dictionaries?\n",
        "    - In lists,'in' checks if a value exists.\n",
        "    - In dictionaries,'in' checks if a key exists (not values).\n",
        "\n",
        "15. Can you modify the elements of a tuple? Explain why or why not.\n",
        "    No, because tuples are immutable, meaning their values cannot be changed after creation.\n",
        "\n",
        "16. What is a nested dictionary, and give an example of its use case?\n",
        "    A dictionary inside another dictionary.\n",
        "\n",
        "    student = {\n",
        "        \"name\": \"Alice\",\n",
        "        \"grades\": {\"math\": 90, \"science\": 85}\n",
        "    }\n",
        "\n",
        "\n",
        "17. Describe the time complexity of accessing elements in a dictionary?\n",
        "    O(1) on average due to hashing, but O(n) in the worst case if many hash collisions occur.\n",
        "\n",
        "18. In what situations are lists preferred over dictionaries?\n",
        "      When order matters.\n",
        "      When storing sequential data without unique keys.\n",
        "\n",
        "19. Why are dictionaries considered unordered, and how does that affect data retrieval?\n",
        "    Dictionaries were unordered before Python 3.7. Now they maintain insertion order, but data is still retrieved by key, not index.\n",
        "\n",
        "20. Explain the difference between a list and a dictionary in terms of data retrieval.\n",
        "    - Lists retrieve data by index.\n",
        "    - Dictionaries retrieve data by key, making lookups faster.\"\"\""
      ],
      "metadata": {
        "id": "_Gsji9v4R4m0"
      },
      "execution_count": 2,
      "outputs": []
    },
    {
      "cell_type": "code",
      "source": [
        "print(Therory)"
      ],
      "metadata": {
        "colab": {
          "base_uri": "https://localhost:8080/"
        },
        "id": "FrSE4gvhTiN5",
        "outputId": "7bc43b22-7c08-48c0-a644-25afcdab3f79"
      },
      "execution_count": 3,
      "outputs": [
        {
          "output_type": "stream",
          "name": "stdout",
          "text": [
            "Here are the answers to your questions:  \n",
            "\n",
            "1. What are data structures, and why are they important? \n",
            "   Data structures are ways of organizing and storing data efficiently. \n",
            "   They are important because they help in optimizing operations such as searching, sorting, inserting, and deleting data, making programs more efficient and scalable.\n",
            "\n",
            "2. Explain the difference between mutable and immutable data types with examples. \n",
            "   1.Mutable data types can be changed after creation. \n",
            "  Example: `list`, `dictionary`, `set`.  \n",
            "       \n",
            "  2.Immutable data types cannot be changed after creation.\n",
            "   Example: `tuple`, `string`, `int`.  \n",
            "     \n",
            "\n",
            "\n",
            "3. What are the main differences between lists and tuples in Python?\n",
            "   Lists* are mutable, tuples are immutable.  \n",
            "   1.Lists have more built-in methods, tuples have fewer.  \n",
            "   2.Tuples are generally faster than lists due to immutability.  \n",
            "\n",
            "4. Describe how dictionaries store data.  \n",
            "   Dictionaries store data in key-value pairs using a hash table, where keys are hashed to determine where their values are stored.\n",
            "\n",
            "5. Why might you use a set instead of a list in Python?  \n",
            "   1.Sets do not allow duplicate values.  \n",
            "   2. Sets provide faster lookups compared to lists (average O(1) time complexity).  \n",
            "\n",
            "6. What is a string in Python, and how is it different from a list?\n",
            "   A string is an immutable sequence of characters, whereas a list is mutable and can hold different types of data.  \n",
            "\n",
            "7. How do tuples ensure data integrity in Python?\n",
            "   Since tuples are immutable, their contents cannot be changed accidentally, making them useful for storing fixed data.\n",
            "\n",
            "8. What is a hash table, and how does it relate to dictionaries in Python? \n",
            "   A hash table is a data structure that stores key-value pairs using a hashing function. Python’s dictionaries use hash tables for fast data retrieval.\n",
            "\n",
            "9. Can lists contain different data types in Python? \n",
            "   Yes, lists can contain multiple data types:  \n",
            "   Example:my_list = [1, \"hello\", 3.14, [1, 2, 3]]\n",
            "  \n",
            "\n",
            "10. Explain why strings are immutable in Python.  \n",
            "    Strings are immutable to ensure security, optimize memory usage, and allow efficient string operations.\n",
            "\n",
            "11. What advantages do dictionaries offer over lists for certain tasks? \n",
            "    - Faster lookups (O(1) vs O(n) for lists).  \n",
            "    - Data retrieval based on unique keys instead of index positions.  \n",
            "\n",
            "12. Describe a scenario where using a tuple would be preferable over a list. \n",
            "    Storing coordinates `(x, y)` or fixed configuration values where modification is not needed.\n",
            "\n",
            "13. How do sets handle duplicate values in Python? \n",
            "    Sets automatically remove duplicates when elements are added.\n",
            "\n",
            "14. How does the `in` keyword work differently for lists and dictionaries?\n",
            "    - In lists,'in' checks if a value exists.  \n",
            "    - In dictionaries,'in' checks if a key exists (not values).  \n",
            "\n",
            "15. Can you modify the elements of a tuple? Explain why or why not. \n",
            "    No, because tuples are immutable, meaning their values cannot be changed after creation.\n",
            "\n",
            "16. What is a nested dictionary, and give an example of its use case?  \n",
            "    A dictionary inside another dictionary.  \n",
            "    \n",
            "    student = {\n",
            "        \"name\": \"Alice\",\n",
            "        \"grades\": {\"math\": 90, \"science\": 85}\n",
            "    }\n",
            "    \n",
            "\n",
            "17. Describe the time complexity of accessing elements in a dictionary?  \n",
            "    O(1) on average due to hashing, but O(n) in the worst case if many hash collisions occur.\n",
            "\n",
            "18. In what situations are lists preferred over dictionaries? \n",
            "      When order matters.  \n",
            "      When storing sequential data without unique keys.  \n",
            "\n",
            "19. Why are dictionaries considered unordered, and how does that affect data retrieval?  \n",
            "    Dictionaries were unordered before Python 3.7. Now they maintain insertion order, but data is still retrieved by key, not index.\n",
            "\n",
            "20. Explain the difference between a list and a dictionary in terms of data retrieval. \n",
            "    - Lists retrieve data by index.  \n",
            "    - Dictionaries retrieve data by key, making lookups faster.\n"
          ]
        }
      ]
    },
    {
      "cell_type": "markdown",
      "source": [
        "#Practical Questions\n"
      ],
      "metadata": {
        "id": "cKs86DfgTuVF"
      }
    },
    {
      "cell_type": "code",
      "source": [
        "#DP Write a code to create a string with your name and print it?\n",
        "name=input(\"Enter your name: \")\n",
        "print(name)\n",
        "\n",
        "name=\"OM Shrivastav\"\n",
        "name_1 ='OM SHRIVASTAV'\n",
        "name_2=\"\"\"OM SHRIVASTAV\"\"\"\n",
        "print(name)\n",
        "print(name_1)\n",
        "print(name_2)"
      ],
      "metadata": {
        "colab": {
          "base_uri": "https://localhost:8080/"
        },
        "id": "UTZEKXQnT6Wr",
        "outputId": "caf5b43c-a518-4885-a1b6-affec2f3141f"
      },
      "execution_count": 6,
      "outputs": [
        {
          "output_type": "stream",
          "name": "stdout",
          "text": [
            "Enter your name: OM SHRIVASTAV\n",
            "OM SHRIVASTAV\n",
            "OM Shrivastav\n",
            "OM SHRIVASTAV\n",
            "OM SHRIVASTAV\n"
          ]
        }
      ]
    },
    {
      "cell_type": "code",
      "source": [
        "#Write a code to find the length of the string \"Hello World\"\n",
        "name=\"Hello World\"\n",
        "print(len(name))\n",
        "name.count('Hello')"
      ],
      "metadata": {
        "colab": {
          "base_uri": "https://localhost:8080/"
        },
        "id": "dREN7QtsUelK",
        "outputId": "6771e8b1-b4cf-48bd-ee1f-ac301ef4682c"
      },
      "execution_count": 10,
      "outputs": [
        {
          "output_type": "stream",
          "name": "stdout",
          "text": [
            "11\n"
          ]
        },
        {
          "output_type": "execute_result",
          "data": {
            "text/plain": [
              "1"
            ]
          },
          "metadata": {},
          "execution_count": 10
        }
      ]
    },
    {
      "cell_type": "code",
      "source": [
        "#Write a code to slice the first 3 characters from the string \"Python Programming\"\n",
        "name=\"Python Programming\"\n",
        "print(name[0:3])"
      ],
      "metadata": {
        "colab": {
          "base_uri": "https://localhost:8080/"
        },
        "id": "9rczdbQeUpb6",
        "outputId": "54f24b9c-740c-4fa5-9f50-a82f6b866e89"
      },
      "execution_count": 13,
      "outputs": [
        {
          "output_type": "stream",
          "name": "stdout",
          "text": [
            "Pyt\n"
          ]
        }
      ]
    },
    {
      "cell_type": "code",
      "source": [
        "#Write a code to convert the string \"hello\" to uppercase\n",
        "words=\"hello\"\n",
        "print(words.upper())\n",
        "#or\n",
        "print(words.capitalize())"
      ],
      "metadata": {
        "colab": {
          "base_uri": "https://localhost:8080/"
        },
        "id": "WcwNc1fJVx_r",
        "outputId": "897b9bd8-f25d-419a-cb47-531f75435dd7"
      },
      "execution_count": 16,
      "outputs": [
        {
          "output_type": "stream",
          "name": "stdout",
          "text": [
            "HELLO\n",
            "Hello\n"
          ]
        }
      ]
    },
    {
      "cell_type": "code",
      "source": [
        "#Write a code to replace the word \"apple\" with \"orange\" in the string \"I like apple\"\n",
        "words=\"I like apple\"\n",
        "print(words.replace(\"apple\",\"orange\"))"
      ],
      "metadata": {
        "colab": {
          "base_uri": "https://localhost:8080/"
        },
        "id": "R023Ty_NWCm-",
        "outputId": "f3f51b3f-4a92-4aad-d33e-70be049bc339"
      },
      "execution_count": 17,
      "outputs": [
        {
          "output_type": "stream",
          "name": "stdout",
          "text": [
            "I like orange\n"
          ]
        }
      ]
    },
    {
      "cell_type": "code",
      "source": [
        "#Write a code to create a list with numbers 1 to 5 and print it?\n",
        "list1=[5,4,3,2,1]\n",
        "list1.sort()\n",
        "list1"
      ],
      "metadata": {
        "colab": {
          "base_uri": "https://localhost:8080/"
        },
        "id": "fJdX30NNWPME",
        "outputId": "c03eb907-7d12-4719-965e-1672535a9660"
      },
      "execution_count": 20,
      "outputs": [
        {
          "output_type": "execute_result",
          "data": {
            "text/plain": [
              "[1, 2, 3, 4, 5]"
            ]
          },
          "metadata": {},
          "execution_count": 20
        }
      ]
    },
    {
      "cell_type": "code",
      "source": [
        "from os import truncate\n",
        "#Write a code to append the number 10 to the list [1, 2, 3, 4]\n",
        "list1=[1,2,3,4]\n",
        "list1.append(10)\n",
        "print(list1)\n",
        "list1.sort(reverse=True)\n",
        "print(list1)"
      ],
      "metadata": {
        "colab": {
          "base_uri": "https://localhost:8080/"
        },
        "id": "jGZmrVBuXBV0",
        "outputId": "b58212e1-7dc1-4e1f-8dc0-b9a2211e6425"
      },
      "execution_count": 25,
      "outputs": [
        {
          "output_type": "stream",
          "name": "stdout",
          "text": [
            "[1, 2, 3, 4, 10]\n",
            "[10, 4, 3, 2, 1]\n"
          ]
        }
      ]
    },
    {
      "cell_type": "code",
      "source": [
        "#Write a code to remove the number 3 from the list [1, 2, 3, 4, 5]\n",
        "list1=[1,2,3,4,5]\n",
        "list1.remove(3)\n",
        "list1"
      ],
      "metadata": {
        "colab": {
          "base_uri": "https://localhost:8080/"
        },
        "id": "FtCqOWdpXfXe",
        "outputId": "0c56fc04-2b92-4574-c590-d4163574a965"
      },
      "execution_count": 26,
      "outputs": [
        {
          "output_type": "execute_result",
          "data": {
            "text/plain": [
              "[1, 2, 4, 5]"
            ]
          },
          "metadata": {},
          "execution_count": 26
        }
      ]
    },
    {
      "cell_type": "code",
      "source": [
        "#Write a code to access the second element in the list ['a', 'b', 'c', 'd']\n",
        "list1=['a','b','c','d']\n",
        "list1[1]\n",
        "print(list1[1])"
      ],
      "metadata": {
        "colab": {
          "base_uri": "https://localhost:8080/"
        },
        "id": "EcJb1DW4Xkl-",
        "outputId": "cf0f67d0-4ec8-49f3-8460-df743fea360f"
      },
      "execution_count": 27,
      "outputs": [
        {
          "output_type": "stream",
          "name": "stdout",
          "text": [
            "b\n"
          ]
        }
      ]
    },
    {
      "cell_type": "code",
      "source": [
        "#Write a code to reverse the list [10, 20, 30, 40, 50].\n",
        "list1=[10, 20, 30, 40, 50]\n",
        "list1.sort(reverse=True)\n",
        "print(list1)\n",
        "#or\n",
        "list1.reverse()\n",
        "print(list1)"
      ],
      "metadata": {
        "colab": {
          "base_uri": "https://localhost:8080/"
        },
        "id": "0Tx8RiA8XvGE",
        "outputId": "b536b777-82c2-40ee-da84-aec0b9826f34"
      },
      "execution_count": 32,
      "outputs": [
        {
          "output_type": "stream",
          "name": "stdout",
          "text": [
            "[50, 40, 30, 20, 10]\n",
            "[10, 20, 30, 40, 50]\n"
          ]
        }
      ]
    },
    {
      "cell_type": "code",
      "source": [
        "#Write a code to create a tuple with the elements 100, 200, 300 and print it.\n",
        "t1=(100,200,300)\n",
        "print(t1)\n",
        "print(type(t1))"
      ],
      "metadata": {
        "colab": {
          "base_uri": "https://localhost:8080/"
        },
        "id": "8W1e8oOZYXdW",
        "outputId": "ff539842-6bd0-4f4e-dc75-21ee5341fb9b"
      },
      "execution_count": 33,
      "outputs": [
        {
          "output_type": "stream",
          "name": "stdout",
          "text": [
            "(100, 200, 300)\n",
            "<class 'tuple'>\n"
          ]
        }
      ]
    },
    {
      "cell_type": "code",
      "source": [
        "# Write a code to access the second-to-last element of the tuple ('red', 'green', 'blue', 'yellow')\n",
        "t1=('red', 'green', 'blue', 'yellow')\n",
        "print(t1[-2])\n",
        "#or\n",
        "print(t1[+2])"
      ],
      "metadata": {
        "colab": {
          "base_uri": "https://localhost:8080/"
        },
        "id": "VEgEUsJAYlQH",
        "outputId": "aaee7540-3c11-4f29-9766-63c6e9a05194"
      },
      "execution_count": 36,
      "outputs": [
        {
          "output_type": "stream",
          "name": "stdout",
          "text": [
            "blue\n",
            "blue\n"
          ]
        }
      ]
    },
    {
      "cell_type": "code",
      "source": [
        "# Write a code to find the minimum number in the tuple (10, 20, 5, 15)\n",
        "t1=(10, 20, 5, 15)\n",
        "print(min(t1))"
      ],
      "metadata": {
        "colab": {
          "base_uri": "https://localhost:8080/"
        },
        "id": "AV7sbyZpZClD",
        "outputId": "fdd89ba2-82cc-4162-afb5-906a21e894c5"
      },
      "execution_count": 38,
      "outputs": [
        {
          "output_type": "stream",
          "name": "stdout",
          "text": [
            "5\n"
          ]
        }
      ]
    },
    {
      "cell_type": "code",
      "source": [
        "#Write a code to find the index of the element \"cat\" in the tuple ('dog', 'cat', 'rabbit').\n",
        "t1=('dog', 'cat', 'rabbit')\n",
        "print(t1.index('cat'))"
      ],
      "metadata": {
        "colab": {
          "base_uri": "https://localhost:8080/"
        },
        "id": "TId5oc-XZXrj",
        "outputId": "039fcabb-011a-439a-9ff5-723692c86df2"
      },
      "execution_count": 39,
      "outputs": [
        {
          "output_type": "stream",
          "name": "stdout",
          "text": [
            "1\n"
          ]
        }
      ]
    },
    {
      "cell_type": "code",
      "source": [
        "#Write a code to create a tuple containing three different fruits and check if \"kiwi\" is in it\n",
        "fruits=(\"apple\",\"banana\",\"kiwi\")\n",
        "if \"kiwi\" in fruits:\n",
        "    print(\"kiwi is in the tuple\")\n",
        "else:\n",
        "    print(\"kiwi is not in the tuple\")"
      ],
      "metadata": {
        "colab": {
          "base_uri": "https://localhost:8080/"
        },
        "id": "MmBP9SR6ZbfJ",
        "outputId": "03f4c450-9c5b-4f72-c463-3fa64a38628b"
      },
      "execution_count": 40,
      "outputs": [
        {
          "output_type": "stream",
          "name": "stdout",
          "text": [
            "kiwi is in the tuple\n"
          ]
        }
      ]
    },
    {
      "cell_type": "code",
      "source": [
        "#Write a code to create a set with the elements 'a', 'b', 'c' and print it.\n",
        "set1={'a','b','c'}\n",
        "print(set1)"
      ],
      "metadata": {
        "colab": {
          "base_uri": "https://localhost:8080/"
        },
        "id": "Ghu1eOeAZq8i",
        "outputId": "2eddf2c4-d9d7-4406-a746-8bd4aacd9a31"
      },
      "execution_count": 41,
      "outputs": [
        {
          "output_type": "stream",
          "name": "stdout",
          "text": [
            "{'c', 'a', 'b'}\n"
          ]
        }
      ]
    },
    {
      "cell_type": "code",
      "source": [
        "#Write a code to clear all elements from the set {1, 2, 3, 4, 5}.\n",
        "set1={1, 2, 3, 4, 5}\n",
        "set1.clear()\n",
        "print(set1)"
      ],
      "metadata": {
        "colab": {
          "base_uri": "https://localhost:8080/"
        },
        "id": "-irXJy_kZxN2",
        "outputId": "1654ce72-18bb-4979-ded4-462161ef3570"
      },
      "execution_count": 42,
      "outputs": [
        {
          "output_type": "stream",
          "name": "stdout",
          "text": [
            "set()\n"
          ]
        }
      ]
    },
    {
      "cell_type": "code",
      "source": [
        "#Write a code to remove the element 4 from the set {1, 2, 3, 4}.\n",
        "set1={1, 2, 3, 4}\n",
        "set1.remove(4)\n",
        "print(set1)"
      ],
      "metadata": {
        "colab": {
          "base_uri": "https://localhost:8080/"
        },
        "id": "crMJDhhaZ8Pe",
        "outputId": "a6e4119c-66bd-4426-a3b2-1ffedf490fa8"
      },
      "execution_count": 43,
      "outputs": [
        {
          "output_type": "stream",
          "name": "stdout",
          "text": [
            "{1, 2, 3}\n"
          ]
        }
      ]
    },
    {
      "cell_type": "code",
      "source": [
        "# Write a code to find the union of two sets {1, 2, 3} and {3, 4, 5}.\n",
        "set1={1, 2, 3}\n",
        "set2={3, 4, 5}\n",
        "set3=set1.union(set2)\n",
        "print(set3)"
      ],
      "metadata": {
        "colab": {
          "base_uri": "https://localhost:8080/"
        },
        "id": "5IEeomOoaA0F",
        "outputId": "8f4f5da4-e9b7-4bf6-a81e-8aefbb5c6a4d"
      },
      "execution_count": 44,
      "outputs": [
        {
          "output_type": "stream",
          "name": "stdout",
          "text": [
            "{1, 2, 3, 4, 5}\n"
          ]
        }
      ]
    },
    {
      "cell_type": "code",
      "source": [
        "# Write a code to find the intersection of two sets {1, 2, 3} and {2, 3, 4}.\n",
        "set1={1, 2, 3}\n",
        "set2={2, 3, 4}\n",
        "set3=set1.intersection(set2)\n",
        "print(set3)"
      ],
      "metadata": {
        "colab": {
          "base_uri": "https://localhost:8080/"
        },
        "id": "mwGBknWPaTz6",
        "outputId": "7f78ca46-cb79-42c2-8206-0d1404070f84"
      },
      "execution_count": 45,
      "outputs": [
        {
          "output_type": "stream",
          "name": "stdout",
          "text": [
            "{2, 3}\n"
          ]
        }
      ]
    },
    {
      "cell_type": "code",
      "source": [
        "# Write a code to create a dictionary with the keys \"name\", \"age\", and \"city\", and print it.\n",
        "dict1={\"name\":\"Om\",\"age\":20,\"city\":\"Delhi\"}\n",
        "print(dict1)"
      ],
      "metadata": {
        "colab": {
          "base_uri": "https://localhost:8080/"
        },
        "id": "u0DcVmEOad0A",
        "outputId": "8864c8ad-f8a9-44a7-97ed-71e69bf6628b"
      },
      "execution_count": 48,
      "outputs": [
        {
          "output_type": "stream",
          "name": "stdout",
          "text": [
            "{'name': 'Om', 'age': 20, 'city': 'Delhi'}\n"
          ]
        }
      ]
    },
    {
      "cell_type": "code",
      "source": [
        "#Write a code to add a new key-value pair \"country\": \"USA\" to the dictionary {'name': 'John', 'age': 25}\n",
        "dict1={'name': 'John', 'age': 25}\n",
        "dict1[\"country\"]=\"USA\"\n",
        "print(dict1)"
      ],
      "metadata": {
        "colab": {
          "base_uri": "https://localhost:8080/"
        },
        "id": "Mp2IKjBUantF",
        "outputId": "bf011d84-1e71-49ec-8677-9fc924bfb220"
      },
      "execution_count": 49,
      "outputs": [
        {
          "output_type": "stream",
          "name": "stdout",
          "text": [
            "{'name': 'John', 'age': 25, 'country': 'USA'}\n"
          ]
        }
      ]
    },
    {
      "cell_type": "code",
      "source": [
        "# Write a code to access the value associated with the key \"name\" in the dictionary {'name': 'Alice', 'age': 30}\n",
        "dict1={'name': 'Alice', 'age': 30}\n",
        "print(dict1[\"name\"])"
      ],
      "metadata": {
        "colab": {
          "base_uri": "https://localhost:8080/"
        },
        "id": "0IvgQd7ia1Bk",
        "outputId": "28ca4314-3574-4589-e3df-e6b2d09dd51f"
      },
      "execution_count": 50,
      "outputs": [
        {
          "output_type": "stream",
          "name": "stdout",
          "text": [
            "Alice\n"
          ]
        }
      ]
    },
    {
      "cell_type": "code",
      "source": [
        "# Write a code to remove the key \"age\" from the dictionary {'name': 'Bob', 'age': 22, 'city': 'New York'}.\n",
        "dict1={'name': 'Bob', 'age': 22, 'city': 'New York'}\n",
        "dict1.pop(\"age\")\n",
        "print(dict1)"
      ],
      "metadata": {
        "colab": {
          "base_uri": "https://localhost:8080/"
        },
        "id": "nm2Z4zvHa8RK",
        "outputId": "ea7f5b38-75bd-41c1-e6e2-3208d7eb0c34"
      },
      "execution_count": 52,
      "outputs": [
        {
          "output_type": "stream",
          "name": "stdout",
          "text": [
            "{'name': 'Bob', 'city': 'New York'}\n"
          ]
        }
      ]
    },
    {
      "cell_type": "code",
      "source": [
        "#Write a code to check if the key \"city\" exists in the dictionary {'name': 'Alice', 'city': 'Paris'}.\n",
        "dict1={'name': 'Alice', 'city': 'Paris'}\n",
        "if \"city\" in dict1:\n",
        "    print(\"city is in the dictionary\")\n",
        "else:\n",
        "    print(\"city is not in the dictionary\")"
      ],
      "metadata": {
        "colab": {
          "base_uri": "https://localhost:8080/"
        },
        "id": "etcLrRZobJy-",
        "outputId": "df37fddc-c90c-4b76-c7fc-171c4740b736"
      },
      "execution_count": 54,
      "outputs": [
        {
          "output_type": "stream",
          "name": "stdout",
          "text": [
            "city is in the dictionary\n"
          ]
        }
      ]
    },
    {
      "cell_type": "code",
      "source": [
        "# Write a code to create a list, a tuple, and a dictionary, and print them all.\n",
        "list1=[1,2,3,4]\n",
        "print(list1)\n",
        "t1=(1,2,3,4)\n",
        "print(t1)\n",
        "dict1={\"name\":\"Om\",\"age\":20,\"city\":\"Delhi\"}\n",
        "print(dict1)"
      ],
      "metadata": {
        "colab": {
          "base_uri": "https://localhost:8080/"
        },
        "id": "UAUIh6KlbTPS",
        "outputId": "cfaff9f2-9975-43a1-e492-d2241663a762"
      },
      "execution_count": 55,
      "outputs": [
        {
          "output_type": "stream",
          "name": "stdout",
          "text": [
            "[1, 2, 3, 4]\n",
            "(1, 2, 3, 4)\n",
            "{'name': 'Om', 'age': 20, 'city': 'Delhi'}\n"
          ]
        }
      ]
    },
    {
      "cell_type": "code",
      "source": [
        "#Write a code to create a list of 5 random numbers between 1 and 100, sort it in ascending order, and print the\n",
        "#result.(replaced)\n",
        "import random\n",
        "list1=[]\n",
        "for i in range(5):\n",
        "    list1.append(random.randint(1,100))\n",
        "list1.sort()\n",
        "print(list1)"
      ],
      "metadata": {
        "colab": {
          "base_uri": "https://localhost:8080/"
        },
        "id": "KfqLPgtvbacf",
        "outputId": "122db09d-1dc9-4a48-9385-7140588a52c8"
      },
      "execution_count": 58,
      "outputs": [
        {
          "output_type": "stream",
          "name": "stdout",
          "text": [
            "[3, 10, 47, 61, 95]\n"
          ]
        }
      ]
    },
    {
      "cell_type": "code",
      "source": [
        "#Write a code to create a list with strings and print the element at the third index\n",
        "list1=[\"apple\",\"banana\",\"kiwi\",\"orange\",\"mango\"]\n",
        "print(list1[3])"
      ],
      "metadata": {
        "colab": {
          "base_uri": "https://localhost:8080/"
        },
        "id": "BdweUlgsbtE5",
        "outputId": "8d76397d-10f6-4f04-9d9f-69f6fdc5617f"
      },
      "execution_count": 59,
      "outputs": [
        {
          "output_type": "stream",
          "name": "stdout",
          "text": [
            "orange\n"
          ]
        }
      ]
    },
    {
      "cell_type": "code",
      "source": [
        "#Write a code to combine two dictionaries into one and print the result\n",
        "dict1={\"name\":\"Om\",\"age\":20,\"city\":\"Delhi\"}\n",
        "dict2={\"name\":\"Shayog\",\"age\":20,\"city\":\"pune\"}\n",
        "dict3=dict1.copy()\n",
        "dict3.update(dict2)\n",
        "print(dict3)"
      ],
      "metadata": {
        "colab": {
          "base_uri": "https://localhost:8080/"
        },
        "id": "ReyRSGqXb0VR",
        "outputId": "fe4553f7-277d-41a6-f255-07f0ae47fa89"
      },
      "execution_count": 60,
      "outputs": [
        {
          "output_type": "stream",
          "name": "stdout",
          "text": [
            "{'name': 'Shayog', 'age': 20, 'city': 'pune'}\n"
          ]
        }
      ]
    },
    {
      "cell_type": "code",
      "source": [
        "#Write a code to convert a list of strings into a set.\n",
        "list1=[\"apple\",\"banana\",\"kiwi\",\"orange\",\"mango\"]\n",
        "set1=set(list1)\n",
        "print(set1)"
      ],
      "metadata": {
        "colab": {
          "base_uri": "https://localhost:8080/"
        },
        "id": "5KDbHltJb8AS",
        "outputId": "0a844b41-82f7-4517-eec7-8114c544e6d1"
      },
      "execution_count": 61,
      "outputs": [
        {
          "output_type": "stream",
          "name": "stdout",
          "text": [
            "{'orange', 'kiwi', 'banana', 'apple', 'mango'}\n"
          ]
        }
      ]
    }
  ]
}