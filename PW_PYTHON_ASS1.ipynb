{
  "cells": [
    {
      "cell_type": "markdown",
      "metadata": {
        "id": "L210RkLkrA7N"
      },
      "source": [
        "#Python Basics Questions\n",
        "\n"
      ]
    },
    {
      "cell_type": "code",
      "execution_count": 1,
      "metadata": {
        "id": "23UuhJUHrJyh"
      },
      "outputs": [],
      "source": [
        "Q1= \"\"\"What is Python, and why is it popular?\n",
        "Python is a high-level, interpreted, and general-purpose programming language.\n",
        "It is popular because:\n",
        "It has a simple and readable syntax. It offers extensive libraries and frameworks.\n",
        "It supports multiple programming paradigms (e.g., procedural, object-oriented, functional).\n",
        "It is widely used in fields like web development, data science, AI, and more.\"\"\"\n"
      ]
    },
    {
      "cell_type": "code",
      "execution_count": 2,
      "metadata": {
        "colab": {
          "base_uri": "https://localhost:8080/"
        },
        "id": "rezrln4Grlym",
        "outputId": "f3e25c89-d448-47b4-9743-94f09d8726fd"
      },
      "outputs": [
        {
          "output_type": "stream",
          "name": "stdout",
          "text": [
            "What is Python, and why is it popular?\n",
            "Python is a high-level, interpreted, and general-purpose programming language.\n",
            "It is popular because:\n",
            "It has a simple and readable syntax. It offers extensive libraries and frameworks.\n",
            "It supports multiple programming paradigms (e.g., procedural, object-oriented, functional).\n",
            "It is widely used in fields like web development, data science, AI, and more.\n"
          ]
        }
      ],
      "source": [
        "print(Q1)"
      ]
    },
    {
      "cell_type": "code",
      "execution_count": 3,
      "metadata": {
        "id": "v4YezStur5Rz"
      },
      "outputs": [],
      "source": [
        "Q2=\"\"\"What is an interpreter in Python?\n",
        "An interpreter in Python is a program that executes Python code line by line, converting it into machine-readable instructions.\n",
        "It allows for rapid testing and debugging but may run slower than compiled languages for some tasks.\"\"\""
      ]
    },
    {
      "cell_type": "code",
      "execution_count": 4,
      "metadata": {
        "colab": {
          "base_uri": "https://localhost:8080/"
        },
        "id": "B7pHOvlFr88K",
        "outputId": "47802aa2-d4d3-4013-bee6-fb99ffd40696"
      },
      "outputs": [
        {
          "output_type": "stream",
          "name": "stdout",
          "text": [
            "What is an interpreter in Python?\n",
            "An interpreter in Python is a program that executes Python code line by line, converting it into machine-readable instructions.\n",
            "It allows for rapid testing and debugging but may run slower than compiled languages for some tasks.\n"
          ]
        }
      ],
      "source": [
        "print(Q2)"
      ]
    },
    {
      "cell_type": "code",
      "execution_count": 5,
      "metadata": {
        "id": "CFPN-cohsBzK"
      },
      "outputs": [],
      "source": [
        "Q3=\"\"\"What are pre-defined keywords in Python?\n",
        "Pre-defined keywords are reserved words in Python that have a specific meaning and purpose in the language.\n",
        "Examples include if, else, while, for, True, and False.\"\"\""
      ]
    },
    {
      "cell_type": "code",
      "execution_count": 6,
      "metadata": {
        "colab": {
          "base_uri": "https://localhost:8080/"
        },
        "id": "TFlrQKhPsJWI",
        "outputId": "f606e17d-8a2a-4f6b-d0c6-22c21959cbda"
      },
      "outputs": [
        {
          "output_type": "stream",
          "name": "stdout",
          "text": [
            "What are pre-defined keywords in Python?\n",
            "Pre-defined keywords are reserved words in Python that have a specific meaning and purpose in the language.\n",
            "Examples include if, else, while, for, True, and False.\n"
          ]
        }
      ],
      "source": [
        "print(Q3)"
      ]
    },
    {
      "cell_type": "code",
      "execution_count": 7,
      "metadata": {
        "id": "nuL72SMFsTTp"
      },
      "outputs": [],
      "source": [
        "Q4=\"\"\"Can keywords be used as variable names?\n",
        "No, keywords cannot be used as variable names because they are reserved by the Python language for specific functions and operations.\"\"\""
      ]
    },
    {
      "cell_type": "code",
      "execution_count": 8,
      "metadata": {
        "colab": {
          "base_uri": "https://localhost:8080/"
        },
        "id": "lDV4bFD1spIt",
        "outputId": "49c525be-ee7e-4c33-db6e-05b45bb8013f"
      },
      "outputs": [
        {
          "output_type": "stream",
          "name": "stdout",
          "text": [
            "Can keywords be used as variable names?\n",
            "No, keywords cannot be used as variable names because they are reserved by the Python language for specific functions and operations.\n"
          ]
        }
      ],
      "source": [
        "print(Q4)"
      ]
    },
    {
      "cell_type": "code",
      "execution_count": 9,
      "metadata": {
        "id": "oJiwseRas0gw"
      },
      "outputs": [],
      "source": [
        "Q5 = \"\"\"What is mutability in Python?\n",
        "1.Mutability refers to whether an object’s value can be changed after it is created.\n",
        "2.Mutable objects can be modified (e.g., lists, dictionaries). Immutable objects cannot be modified (e.g., strings, tuples).\"\"\""
      ]
    },
    {
      "cell_type": "code",
      "execution_count": 10,
      "metadata": {
        "colab": {
          "base_uri": "https://localhost:8080/"
        },
        "id": "6jiQQ6lms5FO",
        "outputId": "ace2b4f2-392d-46af-924e-774450a7906a"
      },
      "outputs": [
        {
          "output_type": "stream",
          "name": "stdout",
          "text": [
            "What is mutability in Python?\n",
            "1.Mutability refers to whether an object’s value can be changed after it is created.\n",
            "2.Mutable objects can be modified (e.g., lists, dictionaries). Immutable objects cannot be modified (e.g., strings, tuples).\n"
          ]
        }
      ],
      "source": [
        "print(Q5)"
      ]
    },
    {
      "cell_type": "code",
      "execution_count": 11,
      "metadata": {
        "id": "9XeSRUC0tES4"
      },
      "outputs": [],
      "source": [
        "Q6 = \"\"\"Why are lists mutable, but tuples are immutable?\n",
        "Lists are mutable to allow dynamic modifications like appending, removing, or updating elements.\n",
        "Tuples, on the other hand, are immutable to provide fixed, hashable data structures that can be used as dictionary keys or in sets.\"\"\""
      ]
    },
    {
      "cell_type": "code",
      "execution_count": 12,
      "metadata": {
        "colab": {
          "base_uri": "https://localhost:8080/"
        },
        "id": "udsz7uUbtb6T",
        "outputId": "89211676-fc3e-414c-997d-e9bd5fc5f663"
      },
      "outputs": [
        {
          "output_type": "stream",
          "name": "stdout",
          "text": [
            "Why are lists mutable, but tuples are immutable?\n",
            "Lists are mutable to allow dynamic modifications like appending, removing, or updating elements.\n",
            "Tuples, on the other hand, are immutable to provide fixed, hashable data structures that can be used as dictionary keys or in sets.\n"
          ]
        }
      ],
      "source": [
        "print(Q6)"
      ]
    },
    {
      "cell_type": "code",
      "execution_count": 13,
      "metadata": {
        "id": "mcQah4_otvaQ"
      },
      "outputs": [],
      "source": [
        "Q7 =\"\"\"What is the difference between == and is operators in Python?\n",
        "== checks for value equality (whether two objects have the same value). is checks for identity equality (whether two objects point to the same memory location).\"\"\""
      ]
    },
    {
      "cell_type": "code",
      "execution_count": 14,
      "metadata": {
        "colab": {
          "base_uri": "https://localhost:8080/"
        },
        "id": "REzTSw39t-Sd",
        "outputId": "fcc58d92-391a-440e-f5b6-9a61e8ae6b49"
      },
      "outputs": [
        {
          "output_type": "stream",
          "name": "stdout",
          "text": [
            "What is the difference between == and is operators in Python?\n",
            "== checks for value equality (whether two objects have the same value). is checks for identity equality (whether two objects point to the same memory location).\n"
          ]
        }
      ],
      "source": [
        "print(Q7)"
      ]
    },
    {
      "cell_type": "code",
      "execution_count": 15,
      "metadata": {
        "id": "7PCw8TaGuc2I"
      },
      "outputs": [],
      "source": [
        "Q8_to_Q14 = \"\"\"\n",
        "8. What are logical operators in Python?\n",
        "Logical operators are used to combine conditional statements:\n",
        "and: Returns True if both conditions are true.\n",
        "or: Returns True if at least one condition is true.\n",
        "not: Inverts the truth value.\n",
        "\n",
        "9. What is type casting in Python?\n",
        "Type casting is the process of converting a variable from one data type to another. It can be:\n",
        "\n",
        "Implicit: Done automatically by Python (e.g., int to float).\n",
        "Explicit: Manually done by the programmer using functions like int(), float(), str().\n",
        "\n",
        "10. What is the difference between implicit and explicit type casting?\n",
        "Implicit type casting: Python automatically converts a smaller data type to a larger data type (e.g., int to float).\n",
        "Explicit type casting: The programmer explicitly specifies the conversion (e.g., float(10) to convert 10 to 10.0).\n",
        "\n",
        "11. What is the purpose of conditional statements in Python?\n",
        "Conditional statements allow a program to make decisions and execute code based on specific conditions.\n",
        "Examples include if, elif, and else.\n",
        "\n",
        "12. How does the elif statement work?\n",
        "The elif statement (short for \"else if\") is used to check multiple conditions.\n",
        "It is evaluated only if the previous conditions are False.\n",
        "If the elif condition is True, its block of code is executed.\n",
        "\n",
        "13. What is the difference between for and while loops?\n",
        "For loop: Iterates over a sequence (e.g., list, range, string) for a fixed number of times.\n",
        "While loop: Repeats as long as a condition is True, making it better for indefinite iteration.\n",
        "\n",
        "14. Describe a scenario where a while loop is more suitable than a for loop.\n",
        "A while loop is better when the number of iterations is not known beforehand. For example, repeatedly prompting a user for a correct password until they enter it correctly.\"\"\"\n",
        "\n"
      ]
    },
    {
      "cell_type": "code",
      "execution_count": 16,
      "metadata": {
        "colab": {
          "base_uri": "https://localhost:8080/"
        },
        "id": "tcCITFiFvFfy",
        "outputId": "64ca38ed-b8a9-434a-b4ee-30a8f16e77a0"
      },
      "outputs": [
        {
          "output_type": "stream",
          "name": "stdout",
          "text": [
            "\n",
            "8. What are logical operators in Python?\n",
            "Logical operators are used to combine conditional statements:\n",
            "and: Returns True if both conditions are true.\n",
            "or: Returns True if at least one condition is true.\n",
            "not: Inverts the truth value.\n",
            "\n",
            "9. What is type casting in Python?\n",
            "Type casting is the process of converting a variable from one data type to another. It can be:\n",
            "\n",
            "Implicit: Done automatically by Python (e.g., int to float).\n",
            "Explicit: Manually done by the programmer using functions like int(), float(), str().\n",
            "\n",
            "10. What is the difference between implicit and explicit type casting?\n",
            "Implicit type casting: Python automatically converts a smaller data type to a larger data type (e.g., int to float).\n",
            "Explicit type casting: The programmer explicitly specifies the conversion (e.g., float(10) to convert 10 to 10.0).\n",
            "\n",
            "11. What is the purpose of conditional statements in Python?\n",
            "Conditional statements allow a program to make decisions and execute code based on specific conditions.\n",
            "Examples include if, elif, and else.\n",
            "\n",
            "12. How does the elif statement work?\n",
            "The elif statement (short for \"else if\") is used to check multiple conditions.\n",
            "It is evaluated only if the previous conditions are False.\n",
            "If the elif condition is True, its block of code is executed.\n",
            "\n",
            "13. What is the difference between for and while loops?\n",
            "For loop: Iterates over a sequence (e.g., list, range, string) for a fixed number of times.\n",
            "While loop: Repeats as long as a condition is True, making it better for indefinite iteration.\n",
            "\n",
            "14. Describe a scenario where a while loop is more suitable than a for loop.\n",
            "A while loop is better when the number of iterations is not known beforehand. For example, repeatedly prompting a user for a correct password until they enter it correctly.\n"
          ]
        }
      ],
      "source": [
        "print(Q8_to_Q14)"
      ]
    },
    {
      "cell_type": "markdown",
      "metadata": {
        "id": "8uzaOevGvmmU"
      },
      "source": [
        "#Practical Questions"
      ]
    },
    {
      "cell_type": "code",
      "execution_count": 17,
      "metadata": {
        "colab": {
          "base_uri": "https://localhost:8080/"
        },
        "id": "HLZcwDKivsgl",
        "outputId": "4d0c76c9-8bdf-4b93-9de9-a570174ef568"
      },
      "outputs": [
        {
          "output_type": "stream",
          "name": "stdout",
          "text": [
            "Hello, World!_\n",
            "Hello, World!_\n"
          ]
        }
      ],
      "source": [
        "#Write a Python program to print \"Hello, World!_\n",
        "a= 'Hello, World!_'\n",
        "print(a)\n",
        "\n",
        "#or\n",
        "print('Hello, World!_')"
      ]
    },
    {
      "cell_type": "code",
      "execution_count": 18,
      "metadata": {
        "id": "_IjPPzM6ytKF",
        "colab": {
          "base_uri": "https://localhost:8080/"
        },
        "outputId": "ca85445b-12b6-4572-a449-a48285131f47"
      },
      "outputs": [
        {
          "output_type": "stream",
          "name": "stdout",
          "text": [
            "Enter your name: Shayog\n",
            "Enter your age: 23\n",
            "Name is Shayog My age is 23\n"
          ]
        }
      ],
      "source": [
        "#Write a Python program that displays your name and age\n",
        "name = input('Enter your name: ')\n",
        "age= int(input('Enter your age: '))\n",
        "if age <= 0:\n",
        "  print(\"Enter the correct number\")\n",
        "else:\n",
        "  print('Name is', name ,'My age is',age)"
      ]
    },
    {
      "cell_type": "code",
      "execution_count": 19,
      "metadata": {
        "colab": {
          "base_uri": "https://localhost:8080/"
        },
        "id": "PSHE4jgwzFzW",
        "outputId": "ff8f502c-34a3-4de8-c86a-6fb21b59ee62"
      },
      "outputs": [
        {
          "output_type": "stream",
          "name": "stdout",
          "text": [
            "List of Python Keywords:\n",
            "False\n",
            "None\n",
            "True\n",
            "and\n",
            "as\n",
            "assert\n",
            "async\n",
            "await\n",
            "break\n",
            "class\n",
            "continue\n",
            "def\n",
            "del\n",
            "elif\n",
            "else\n",
            "except\n",
            "finally\n",
            "for\n",
            "from\n",
            "global\n",
            "if\n",
            "import\n",
            "in\n",
            "is\n",
            "lambda\n",
            "nonlocal\n",
            "not\n",
            "or\n",
            "pass\n",
            "raise\n",
            "return\n",
            "try\n",
            "while\n",
            "with\n",
            "yield\n"
          ]
        }
      ],
      "source": [
        "import keyword\n",
        "# Print all Python pre-defined keywords\n",
        "print(\"List of Python Keywords:\")\n",
        "for kw in keyword.kwlist:\n",
        "    print(kw)"
      ]
    },
    {
      "cell_type": "code",
      "execution_count": 20,
      "metadata": {
        "colab": {
          "base_uri": "https://localhost:8080/"
        },
        "id": "QhjBurFhzVsD",
        "outputId": "8114a586-d171-490c-b58a-152713c2d462"
      },
      "outputs": [
        {
          "output_type": "stream",
          "name": "stdout",
          "text": [
            "Enter a word: AND\n",
            "'AND' is not a Python keyword.\n"
          ]
        }
      ],
      "source": [
        "#Write a program that checks if a given word is a Python keyword\n",
        "words = input(\"Enter a word: \")\n",
        "if keyword.iskeyword(words):\n",
        "    print(f\"'{words}' is a Python keyword.\")\n",
        "else:\n",
        "    print(f\"'{words}' is not a Python keyword.\")"
      ]
    },
    {
      "cell_type": "code",
      "execution_count": 21,
      "metadata": {
        "colab": {
          "base_uri": "https://localhost:8080/"
        },
        "id": "Do3irYJlzszQ",
        "outputId": "086e14b3-2d78-4310-fbf5-2ba512caf062"
      },
      "outputs": [
        {
          "output_type": "stream",
          "name": "stdout",
          "text": [
            "(1, 2, 3, 4, 5)\n",
            "<class 'tuple'>\n",
            "[1, 2, 3, 4, 5]\n",
            "<class 'list'>\n",
            "['om', 'Shayog', 'Sachin', 'manisha', 'Sumedha', 'kajal']\n",
            "[1, 2, 3, 4, 5, 'om', 'Shayog', 'Sachin', 'manisha', 'Sumedha', 'kajal']\n",
            "[1, 2, 3, 4, 5, 'om', 'Shayog', 'Sachin', 'manisha', 'Sumedha', 'kajal', 'PW Skills']\n"
          ]
        }
      ],
      "source": [
        "#Create a list and tuple in Python, and demonstrate how attempting to change an element works differently\n",
        "t1=(1,2,3,4,5)\n",
        "print(t1)\n",
        "print(type(t1))\n",
        "\n",
        "l1 = [1, 2, 3, 4, 5]\n",
        "print(l1)\n",
        "print(type(l1))\n",
        "\n",
        "l2 = [\"om\", \"Shayog\", \"Sachin\", \"manisha\", \"Sumedha\", \"kajal\"]\n",
        "print(l2)\n",
        "\n",
        "# Combine l1 and l2 into l3\n",
        "l3 = l1 + l2\n",
        "print(l3)\n",
        "\n",
        "# Append \"PW Skills\" to l3\n",
        "l3.append(\"PW Skills\")\n",
        "print(l3)\n",
        "\n"
      ]
    },
    {
      "cell_type": "code",
      "execution_count": 22,
      "metadata": {
        "colab": {
          "base_uri": "https://localhost:8080/"
        },
        "id": "wnzFzYpF2O8Q",
        "outputId": "613bde9e-76b2-4899-ef05-1680296c46f0"
      },
      "outputs": [
        {
          "output_type": "stream",
          "name": "stdout",
          "text": [
            "Inside function:\n",
            "Mutable List: [1, 2, 3, 1000]\n",
            "Immutable Variable: 540.0\n",
            "\n",
            "Outside function:\n",
            "Mutable List: [1, 2, 3, 1000]\n",
            "Immutable Variable: 500.0\n"
          ]
        }
      ],
      "source": [
        "def demonstrate_mutable_immutable(mutable_list, immutable_var):\n",
        "\n",
        "    mutable_list.append(1000)\n",
        "\n",
        "\n",
        "    immutable_var += 40\n",
        "    print(\"Inside function:\")\n",
        "    print(\"Mutable List:\", mutable_list)\n",
        "    print(\"Immutable Variable:\", immutable_var)\n",
        "\n",
        "# Initialize arguments\n",
        "my_list = [1, 2, 3]\n",
        "my_number = 500.0\n",
        "\n",
        "\n",
        "demonstrate_mutable_immutable(my_list, my_number)\n",
        "\n",
        "print(\"\\nOutside function:\")\n",
        "print(\"Mutable List:\", my_list)\n",
        "print(\"Immutable Variable:\", my_number)\n"
      ]
    },
    {
      "cell_type": "code",
      "execution_count": 23,
      "metadata": {
        "colab": {
          "base_uri": "https://localhost:8080/"
        },
        "id": "gDfHoi3hVVjp",
        "outputId": "f269b892-4edb-48b6-b168-ad0d77953328"
      },
      "outputs": [
        {
          "output_type": "stream",
          "name": "stdout",
          "text": [
            "Enter the first number: 4765\n",
            "Enter the second number: 5435\n",
            "logical operators are:\n",
            "a == b: False\n",
            "a != b: True\n",
            "a > b: False\n",
            "a < b: True\n",
            "a >= b: False\n",
            "a <= b: True\n"
          ]
        }
      ],
      "source": [
        "#Write a program to demonstrate the use of logical operators\n",
        "\n",
        "a = int(input(\"Enter the first number: \"))\n",
        "b = int(input(\"Enter the second number: \"))\n",
        "\n",
        "print(\"logical operators are:\")\n",
        "print(\"a == b:\", a == b)\n",
        "print(\"a != b:\", a != b)\n",
        "print(\"a > b:\", a > b)\n",
        "print(\"a < b:\", a < b)\n",
        "print(\"a >= b:\", a >= b)\n",
        "print(\"a <= b:\", a <= b)\n"
      ]
    },
    {
      "cell_type": "code",
      "execution_count": 24,
      "metadata": {
        "colab": {
          "base_uri": "https://localhost:8080/"
        },
        "id": "ETd37sv8WVI6",
        "outputId": "da7217e8-48ea-4511-d5de-a9b3f296b504"
      },
      "outputs": [
        {
          "output_type": "stream",
          "name": "stdout",
          "text": [
            "Enter a value: 32\n",
            "Input as Integer: 32\n",
            "Input as Float: 32.0\n",
            "Input as Boolean: True\n"
          ]
        }
      ],
      "source": [
        "#Write a Python program to convert user input from string to integer, float, and boolean types\n",
        "user_input = input(\"Enter a value: \")\n",
        "\n",
        "try:\n",
        "    user_input_int = int(user_input)\n",
        "except ValueError:\n",
        "    user_input_int = None\n",
        "\n",
        "try:\n",
        "    user_input_float = float(user_input)\n",
        "except ValueError:\n",
        "    user_input_float = None\n",
        "\n",
        "user_input_bool = bool(user_input)\n",
        "\n",
        "print(\"Input as Integer:\", user_input_int)\n",
        "print(\"Input as Float:\", user_input_float)\n",
        "print(\"Input as Boolean:\", user_input_bool)"
      ]
    },
    {
      "cell_type": "code",
      "execution_count": 25,
      "metadata": {
        "colab": {
          "base_uri": "https://localhost:8080/"
        },
        "id": "7nmiXsVMXH68",
        "outputId": "513747dd-f5a7-4598-f993-be2cf7b364cc"
      },
      "outputs": [
        {
          "output_type": "stream",
          "name": "stdout",
          "text": [
            "Original List: ['10', '20', 30, '40', 50, 'king']\n",
            "Integer List: [10, 20, 30, 40, 50]\n",
            "Float List: [10.0, 20.0, 30.0, 40.0, 50.0]\n"
          ]
        }
      ],
      "source": [
        "#Write code to demonstrate type casting with list elements\n",
        "user_list =[\"10\",\"20\",30,\"40\",50,\"king\"]\n",
        "int_list = []\n",
        "flot_list=[]\n",
        "for item in user_list:\n",
        "  try:\n",
        "    int_list.append(int(item))\n",
        "  except ValueError:None\n",
        "  try:\n",
        "      flot_list.append(float(item))\n",
        "  except ValueError:None\n",
        "print(\"Original List:\", user_list)\n",
        "print(\"Integer List:\", int_list)\n",
        "print(\"Float List:\", flot_list)\n"
      ]
    },
    {
      "cell_type": "code",
      "execution_count": 26,
      "metadata": {
        "id": "LDZm0ZDxc7Lv",
        "colab": {
          "base_uri": "https://localhost:8080/"
        },
        "outputId": "eff139b6-4ed6-4dde-a7a8-ad2b0404c186"
      },
      "outputs": [
        {
          "output_type": "stream",
          "name": "stdout",
          "text": [
            "Enter the number: 0\n",
            "The number is zero\n"
          ]
        }
      ],
      "source": [
        "#Write a program that checks if a number is positive, negative, or zero\n",
        "number= input(\"Enter the number: \")\n",
        "try:\n",
        "  number = float(number)\n",
        "  number = int(number)\n",
        "  if number > 0:\n",
        "      print(\"The number is positive\")\n",
        "  elif number < 0:\n",
        "      print(\"The number is negative\")\n",
        "  else:\n",
        "      print(\"The number is zero\")\n",
        "except ValueError:\n",
        "  print(\"Invalid input. Please enter a valid number.\")\n",
        "  exit()"
      ]
    },
    {
      "cell_type": "code",
      "source": [
        "\"Write a for loop to print numbers from 1 to 10\"\n",
        "number = range(10,0,-1)\n",
        "for i in number:\n",
        "   print(i)"
      ],
      "metadata": {
        "id": "KEXsVRb_kTEz",
        "colab": {
          "base_uri": "https://localhost:8080/"
        },
        "outputId": "c1604719-e6dd-411b-80f0-5ad18d35ff27"
      },
      "execution_count": 29,
      "outputs": [
        {
          "output_type": "stream",
          "name": "stdout",
          "text": [
            "10\n",
            "9\n",
            "8\n",
            "7\n",
            "6\n",
            "5\n",
            "4\n",
            "3\n",
            "2\n",
            "1\n"
          ]
        }
      ]
    },
    {
      "cell_type": "code",
      "source": [
        "#Write a Python program to find the sum of all even numbers between 1 and 50\n",
        "sum_of_even = 0\n",
        "for number in range(1, 51):\n",
        "    if number % 2 == 0:\n",
        "        sum_of_even = sum_of_even+number\n",
        "print(\"The sum of even numbers from 1 to 50 is:\", sum_of_even)"
      ],
      "metadata": {
        "colab": {
          "base_uri": "https://localhost:8080/"
        },
        "id": "625uqhVeo3Q0",
        "outputId": "b3d20c96-6ea4-456a-ee9d-7593e53389fc"
      },
      "execution_count": 35,
      "outputs": [
        {
          "output_type": "stream",
          "name": "stdout",
          "text": [
            "The sum of even numbers from 1 to 50 is: 650\n"
          ]
        }
      ]
    },
    {
      "cell_type": "code",
      "source": [
        "# Write a Python program to calculate the factorial of a number provided by the user using a while loop\n",
        "number = int(input(\"Enter a number: \"))\n",
        "factorial = 1\n",
        "current_number = 1\n",
        "\n",
        "while current_number <= number:\n",
        "    factorial *= current_number\n",
        "    current_number += 1\n",
        "\n",
        "print(f\"The factorial of {number} is: {factorial}\")"
      ],
      "metadata": {
        "colab": {
          "base_uri": "https://localhost:8080/"
        },
        "id": "FADmZKU0qxgG",
        "outputId": "aee66a0d-30cd-40d0-c700-4e04adc47c45"
      },
      "execution_count": 39,
      "outputs": [
        {
          "output_type": "stream",
          "name": "stdout",
          "text": [
            "Enter a number: 5\n",
            "The factorial of 5 is: 120\n"
          ]
        }
      ]
    },
    {
      "cell_type": "code",
      "source": [
        "\"Write a program to reverse a string using a while loop\"\n",
        "string = input(\"Enter a string: \")\n",
        "reversed_string = \"\"\n",
        "index = len(string) - 1\n",
        "\n",
        "while index >= 0:\n",
        "    reversed_string += string[index]\n",
        "    index -= 1\n",
        "\n",
        "print(\"Reversed string:\", reversed_string)"
      ],
      "metadata": {
        "colab": {
          "base_uri": "https://localhost:8080/"
        },
        "id": "dKiVOOLarspp",
        "outputId": "74cfab97-f530-492d-a46e-46ecebf8cdf8"
      },
      "execution_count": 41,
      "outputs": [
        {
          "output_type": "stream",
          "name": "stdout",
          "text": [
            "Enter a string: KALYANI\n",
            "Reversed string: INAYLAK\n"
          ]
        }
      ]
    }
  ],
  "metadata": {
    "colab": {
      "provenance": []
    },
    "kernelspec": {
      "display_name": "Python 3",
      "name": "python3"
    },
    "language_info": {
      "name": "python"
    }
  },
  "nbformat": 4,
  "nbformat_minor": 0
}