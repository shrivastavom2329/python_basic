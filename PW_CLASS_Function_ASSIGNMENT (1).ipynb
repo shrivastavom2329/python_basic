{
  "nbformat": 4,
  "nbformat_minor": 0,
  "metadata": {
    "colab": {
      "provenance": []
    },
    "kernelspec": {
      "name": "python3",
      "display_name": "Python 3"
    },
    "language_info": {
      "name": "python"
    }
  },
  "cells": [
    {
      "cell_type": "markdown",
      "source": [
        "#theroy questions\n"
      ],
      "metadata": {
        "id": "Ls1Xb4wyZStG"
      }
    },
    {
      "cell_type": "code",
      "source": [
        "pratical_theroy=\"\"\"1 Difference between a function and a method in Python:\n",
        "\n",
        "A function is an independent block of reusable code defined using the def keyword.\n",
        "\n",
        "A method is a function that belongs to a class and operates on its instances. It is called using object.method() syntax.\n",
        "\n",
        "Example:\n",
        "\n",
        "def function_example():\n",
        "    return \"This is a function\"\n",
        "\n",
        "class Example:\n",
        "    def method_example(self):\n",
        "        return \"This is a method\"\n",
        "\n",
        "2. Function arguments and parameters:\n",
        "\n",
        "Parameters: Variables listed in a function definition.\n",
        "\n",
        "Arguments: Values passed to a function when calling it.\n",
        "\n",
        "Example:\n",
        "\n",
        "def add(c, d):  # 'c' and 'd' are parameters\n",
        "    return c + b\n",
        "result = add(9, 10)  # '9' and '10' are arguments\n",
        "\n",
        "3. Ways to define and call a function in Python:\n",
        "\n",
        "Normal function definition and call:\n",
        "\n",
        "def greet():\n",
        "    print(\"Hello\")\n",
        "greet()\n",
        "\n",
        "Function with arguments:\n",
        "\n",
        "def greet(name):\n",
        "    print(f\"Hello, {name}\")\n",
        "greet(\"Alice\")\n",
        "\n",
        "Lambda function:\n",
        "\n",
        "square = lambda x: x * x\n",
        "print(square(5))\n",
        "\n",
        "4. Purpose of the return statement:\n",
        "\n",
        "The return statement is used to return a value from a function.\n",
        "\n",
        "Example:\n",
        "\n",
        "def square(x):\n",
        "    return x * x\n",
        "result = square(5)  # result will be 25\n",
        "\n",
        "5. Iterators vs Iterables:\n",
        "\n",
        "An iterable is an object that can return an iterator (e.g., list, tuple, dictionary).\n",
        "\n",
        "An iterator is an object that implements __iter__() and __next__() methods.\n",
        "\n",
        "Example:\n",
        "\n",
        "my_list = [1, 2, 3]  # Iterable\n",
        "my_iter = iter(my_list)  # Iterator\n",
        "print(next(my_iter))  # Outputs 1\n",
        "\n",
        "6. Generators in Python:\n",
        "\n",
        "Generators are functions that yield values one at a time using the yield keyword.\n",
        "\n",
        "Example:\n",
        "\n",
        "def count_up_to(n):\n",
        "    count = 1\n",
        "    while count <= n:\n",
        "        yield count\n",
        "        count += 1\n",
        "for num in count_up_to(5):\n",
        "    print(num)\n",
        "\n",
        "7. Advantages of Generators:\n",
        "\n",
        "Memory-efficient (do not store all values in memory at once).\n",
        "\n",
        "Useful for large data processing.\n",
        "\n",
        "Implement lazy evaluation.\n",
        "\n",
        "8. Lambda Function:\n",
        "\n",
        "A lambda function is a small anonymous function defined using lambda keyword.\n",
        "\n",
        "Example:\n",
        "\n",
        "multiply = lambda x, y: x * y\n",
        "print(multiply(3, 4))  # Outputs 12\n",
        "\n",
        "9. Purpose of map() function:\n",
        "\n",
        "Applies a function to each item in an iterable.\n",
        "\n",
        "Example:\n",
        "\n",
        "nums = [1, 2, 5, 7]\n",
        "squared = list(map(lambda x: x*x, nums))\n",
        "print(squared)  # Outputs [1, 4, 25, 49]\n",
        "\n",
        "10. Difference between map(), reduce(), and filter():\n",
        "\n",
        "map(function, iterable): Applies function to each element.\n",
        "\n",
        "filter(function, iterable): Filters elements based on function condition.\n",
        "\n",
        "reduce(function, iterable): Reduces iterable to a single value.\"\"\""
      ],
      "metadata": {
        "id": "PSCqXVjPZVoB"
      },
      "execution_count": 19,
      "outputs": []
    },
    {
      "cell_type": "code",
      "source": [
        "print(pratical_theroy)"
      ],
      "metadata": {
        "colab": {
          "base_uri": "https://localhost:8080/"
        },
        "id": "vLY4KCiMazZb",
        "outputId": "969fb2aa-e4e0-4af2-be79-c3a3ed09d90c"
      },
      "execution_count": 20,
      "outputs": [
        {
          "output_type": "stream",
          "name": "stdout",
          "text": [
            "1 Difference between a function and a method in Python:\n",
            "\n",
            "A function is an independent block of reusable code defined using the def keyword.\n",
            "\n",
            "A method is a function that belongs to a class and operates on its instances. It is called using object.method() syntax.\n",
            "\n",
            "Example:\n",
            "\n",
            "def function_example():\n",
            "    return \"This is a function\"\n",
            "\n",
            "class Example:\n",
            "    def method_example(self):\n",
            "        return \"This is a method\"\n",
            "\n",
            "2. Function arguments and parameters:\n",
            "\n",
            "Parameters: Variables listed in a function definition.\n",
            "\n",
            "Arguments: Values passed to a function when calling it.\n",
            "\n",
            "Example:\n",
            "\n",
            "def add(c, d):  # 'c' and 'd' are parameters\n",
            "    return c + b\n",
            "result = add(9, 10)  # '9' and '10' are arguments\n",
            "\n",
            "3. Ways to define and call a function in Python:\n",
            "\n",
            "Normal function definition and call:\n",
            "\n",
            "def greet():\n",
            "    print(\"Hello\")\n",
            "greet()\n",
            "\n",
            "Function with arguments:\n",
            "\n",
            "def greet(name):\n",
            "    print(f\"Hello, {name}\")\n",
            "greet(\"Alice\")\n",
            "\n",
            "Lambda function:\n",
            "\n",
            "square = lambda x: x * x\n",
            "print(square(5))\n",
            "\n",
            "4. Purpose of the return statement:\n",
            "\n",
            "The return statement is used to return a value from a function.\n",
            "\n",
            "Example:\n",
            "\n",
            "def square(x):\n",
            "    return x * x\n",
            "result = square(5)  # result will be 25\n",
            "\n",
            "5. Iterators vs Iterables:\n",
            "\n",
            "An iterable is an object that can return an iterator (e.g., list, tuple, dictionary).\n",
            "\n",
            "An iterator is an object that implements __iter__() and __next__() methods.\n",
            "\n",
            "Example:\n",
            "\n",
            "my_list = [1, 2, 3]  # Iterable\n",
            "my_iter = iter(my_list)  # Iterator\n",
            "print(next(my_iter))  # Outputs 1\n",
            "\n",
            "6. Generators in Python:\n",
            "\n",
            "Generators are functions that yield values one at a time using the yield keyword.\n",
            "\n",
            "Example:\n",
            "\n",
            "def count_up_to(n):\n",
            "    count = 1\n",
            "    while count <= n:\n",
            "        yield count\n",
            "        count += 1\n",
            "for num in count_up_to(5):\n",
            "    print(num)\n",
            "\n",
            "7. Advantages of Generators:\n",
            "\n",
            "Memory-efficient (do not store all values in memory at once).\n",
            "\n",
            "Useful for large data processing.\n",
            "\n",
            "Implement lazy evaluation.\n",
            "\n",
            "8. Lambda Function:\n",
            "\n",
            "A lambda function is a small anonymous function defined using lambda keyword.\n",
            "\n",
            "Example:\n",
            "\n",
            "multiply = lambda x, y: x * y\n",
            "print(multiply(3, 4))  # Outputs 12\n",
            "\n",
            "9. Purpose of map() function:\n",
            "\n",
            "Applies a function to each item in an iterable.\n",
            "\n",
            "Example:\n",
            "\n",
            "nums = [1, 2, 5, 7]\n",
            "squared = list(map(lambda x: x*x, nums))\n",
            "print(squared)  # Outputs [1, 4, 25, 49]\n",
            "\n",
            "10. Difference between map(), reduce(), and filter():\n",
            "\n",
            "map(function, iterable): Applies function to each element.\n",
            "\n",
            "filter(function, iterable): Filters elements based on function condition.\n",
            "\n",
            "reduce(function, iterable): Reduces iterable to a single value.\n"
          ]
        }
      ]
    },
    {
      "cell_type": "markdown",
      "source": [
        "#  Internal mechanism of reduce for sum operation on [47,11,42,13]:"
      ],
      "metadata": {
        "id": "1IteVz_pbYoP"
      }
    },
    {
      "cell_type": "code",
      "source": [
        "answer=\"\"\"Step 1: reduce(lambda x, y: x + y, [47,11,42,13])\n",
        "\n",
        "Step 2: ((47 + 11) + 42) + 13\n",
        "\n",
        "Step 3: 58 + 42 = 100\n",
        "\n",
        "Step 4: 100 + 13 = 113\n",
        "\n",
        "Final result: 113\"\"\"\n",
        "\n"
      ],
      "metadata": {
        "id": "ApSw-QlRbjPO"
      },
      "execution_count": 21,
      "outputs": []
    },
    {
      "cell_type": "code",
      "source": [
        "print(answer)"
      ],
      "metadata": {
        "colab": {
          "base_uri": "https://localhost:8080/"
        },
        "id": "SUTSNZfSby-5",
        "outputId": "30186b35-b569-41c2-fbd5-524ba0b63646"
      },
      "execution_count": 22,
      "outputs": [
        {
          "output_type": "stream",
          "name": "stdout",
          "text": [
            "Step 1: reduce(lambda x, y: x + y, [47,11,42,13])\n",
            "\n",
            "Step 2: ((47 + 11) + 42) + 13\n",
            "\n",
            "Step 3: 58 + 42 = 100\n",
            "\n",
            "Step 4: 100 + 13 = 113\n",
            "\n",
            "Final result: 113\n"
          ]
        }
      ]
    },
    {
      "cell_type": "markdown",
      "source": [
        "#practical questions"
      ],
      "metadata": {
        "id": "u44YZBkrcDk0"
      }
    },
    {
      "cell_type": "code",
      "source": [
        "#Write a Python function that takes a list of numbers as input and returns the sum of all even numbers in the list.\n",
        "def even_number(number):\n",
        "  even_numbers = [num for num in number if num % 2 == 0]\n",
        "  total = sum(even_numbers)\n",
        "  return total #return the value\n",
        "my_list= input(\"enter the list seprated by commos: \")# changed to input\n",
        "number_list = [int(num.strip())for num in my_list.split(',')if num.strip().isdigit()] # changed spilt to split\n",
        "result=even_number(number_list)\n",
        "print(result)"
      ],
      "metadata": {
        "id": "Xfm01xsNdeiM",
        "colab": {
          "base_uri": "https://localhost:8080/"
        },
        "outputId": "81ef1792-2120-4999-ddfb-8c7532e631b7"
      },
      "execution_count": 23,
      "outputs": [
        {
          "output_type": "stream",
          "name": "stdout",
          "text": [
            "enter the list seprated by commos: 44,99,00,654,76,888,3,1,65\n",
            "1662\n"
          ]
        }
      ]
    },
    {
      "cell_type": "code",
      "source": [
        "#Create a Python function that accepts a string and returns the reverse of that string\n",
        "def words(letter):\n",
        "    return letter[::-1]\n",
        "user_input =input(\"Enter the string:\")\n",
        "reversed_string = words(user_input)\n",
        "print(reversed_string)"
      ],
      "metadata": {
        "id": "5hlFEUIPkOPg",
        "colab": {
          "base_uri": "https://localhost:8080/"
        },
        "outputId": "fded1722-d0ee-47a4-e608-d8d91df5fbca"
      },
      "execution_count": 24,
      "outputs": [
        {
          "output_type": "stream",
          "name": "stdout",
          "text": [
            "Enter the string:Shayog\n",
            "goyahS\n"
          ]
        }
      ]
    },
    {
      "cell_type": "code",
      "source": [
        "#Implement a Python function that takes a list of integers and returns a new list containing the squares of each number.\n",
        "def square(number):\n",
        "    return[num**2 for num in number]\n",
        "my_list=input(\"Enter the list seprated by commos:\")\n",
        "number_list=[int(num.strip())for num in my_list.split(',')if num.strip().isdigit()]\n",
        "result=square(number_list)\n",
        "print(result)\n",
        "\n"
      ],
      "metadata": {
        "id": "z0XXfSNLl-6L",
        "colab": {
          "base_uri": "https://localhost:8080/"
        },
        "outputId": "12c0000c-bad7-4839-9f15-85277d3dc94b"
      },
      "execution_count": 25,
      "outputs": [
        {
          "output_type": "stream",
          "name": "stdout",
          "text": [
            "Enter the list seprated by commos:4,9,88,7,5,6\n",
            "[16, 81, 7744, 49, 25, 36]\n"
          ]
        }
      ]
    },
    {
      "cell_type": "code",
      "source": [
        "#Write a Python function that checks if a given number is prime or not from 1 to 200\n",
        "def is_prime(number):\n",
        "  if number<=1:\n",
        "    return False\n",
        "  if number <2:\n",
        "    return False\n",
        "  for i in range(2,int(number**0.5)+1):\n",
        "    if number%i==0:\n",
        "      return False\n",
        "  return True\n",
        "\n",
        "num = int(input(\"Enter a number (1-200): \"))\n",
        "if 1 <= num <= 200:\n",
        "    if is_prime(num):\n",
        "        print(f\"{num} is a prime number.\")\n",
        "    else:\n",
        "        print(f\"{num} is not a prime number.\")\n",
        "else:\n",
        "    print(\"Please enter a number within the range of 1 to 200.\")\n"
      ],
      "metadata": {
        "id": "e2jwftaMpOdx",
        "colab": {
          "base_uri": "https://localhost:8080/"
        },
        "outputId": "c05fb0bf-4ff0-4cc4-e28c-e7e329ae0c95"
      },
      "execution_count": 26,
      "outputs": [
        {
          "output_type": "stream",
          "name": "stdout",
          "text": [
            "Enter a number (1-200): 7\n",
            "7 is a prime number.\n"
          ]
        }
      ]
    },
    {
      "cell_type": "code",
      "source": [
        "#. Create an iterator class in Python that generates the Fibonacci sequence up to a specified number of terms.\n",
        "def fibonacci(number):\n",
        "  if number ==0:\n",
        "    return 0\n",
        "  elif number==1:\n",
        "    return 1\n",
        "  else:\n",
        "    return fibonacci(number-1)+fibonacci(number-2)\n",
        "\n",
        "user_input =int(input(\"Enter the number: \"))\n",
        "print(fibonacci(user_input))"
      ],
      "metadata": {
        "id": "xtzKcs1JxZKL",
        "colab": {
          "base_uri": "https://localhost:8080/"
        },
        "outputId": "f9cbe1bc-6450-4897-dd47-1e4bc6a836b9"
      },
      "execution_count": 27,
      "outputs": [
        {
          "output_type": "stream",
          "name": "stdout",
          "text": [
            "Enter the number: 5\n",
            "5\n"
          ]
        }
      ]
    },
    {
      "cell_type": "code",
      "source": [
        "##. Create an iterator class in Python that generates the Fibonacci sequence up to a specified number of terms.\n",
        "#differnt logic big number\n",
        "def fibonacci(n):\n",
        "    a, b = 0, 1\n",
        "    for i in range(n):\n",
        "        a, b = b, a + b\n",
        "    return a\n",
        "user_input =int(input(\"Enter the number: \"))\n",
        "print(fibonacci(user_input))"
      ],
      "metadata": {
        "id": "PEKGfcdRzdr-",
        "colab": {
          "base_uri": "https://localhost:8080/"
        },
        "outputId": "ed47edc4-77c7-487f-eb65-3c38ba373ee1"
      },
      "execution_count": 28,
      "outputs": [
        {
          "output_type": "stream",
          "name": "stdout",
          "text": [
            "Enter the number: 77\n",
            "5527939700884757\n"
          ]
        }
      ]
    },
    {
      "cell_type": "code",
      "source": [
        "#Write a generator function in Python that yields the powers of 2 up to a given exponent.\n",
        "def power_of_two(exponent):\n",
        "    power = 1\n",
        "    for i in range(exponent):\n",
        "        yield power\n",
        "        power *= 2\n",
        "user_input =int(input(\"Enter the number: \"))\n",
        "print(list(power_of_two(user_input)))"
      ],
      "metadata": {
        "id": "_rdX_Fxh4l4q",
        "colab": {
          "base_uri": "https://localhost:8080/"
        },
        "outputId": "124dc3c8-65c5-41fe-c1f1-4300196aa2dc"
      },
      "execution_count": 29,
      "outputs": [
        {
          "output_type": "stream",
          "name": "stdout",
          "text": [
            "Enter the number: 6\n",
            "[1, 2, 4, 8, 16, 32]\n"
          ]
        }
      ]
    },
    {
      "cell_type": "code",
      "source": [
        "# Implement a generator function that reads a file line by line and yields each line as a string.\n",
        "import os\n",
        "\n",
        "def create_and_write_file():\n",
        "    file_name = input(\"Enter the file name: \").strip()\n",
        "\n",
        "    if not file_name:\n",
        "        print(\"Invalid file name. Please try again.\")\n",
        "        return\n",
        "\n",
        "    file_path = os.path.abspath(file_name)\n",
        "\n",
        "    try:\n",
        "        with open(file_path, \"w\") as file:\n",
        "            content = input(\"Enter content for the file:\\n\")\n",
        "            file.write(content)\n",
        "            print(f\"File '{file_name}' created successfully at:\\n{file_path}\")\n",
        "    except Exception as e:\n",
        "        print(f\"Error creating file: {e}\")\n",
        "\n",
        "    return file_path\n",
        "\n",
        "# Generator function to read a file line by line\n",
        "def file_reader(file_path):\n",
        "    try:\n",
        "        with open(file_path, \"r\") as file:\n",
        "            for line in file:\n",
        "                yield line.strip()\n",
        "    except FileNotFoundError:\n",
        "        print(\"Error: File not found!\")\n",
        "    except Exception as e:\n",
        "        print(f\"Error reading file: {e}\")\n",
        "\n",
        "file_path = create_and_write_file()\n",
        "\n",
        "if file_path:\n",
        "    print(\"\\nReading file line by line:\\n\")\n",
        "    for line in file_reader(file_path):\n",
        "        print(line)\n",
        "\n"
      ],
      "metadata": {
        "id": "X6H4u07Z-jnC",
        "colab": {
          "base_uri": "https://localhost:8080/"
        },
        "outputId": "ba9cd402-ffdf-4f80-86dd-eb45b5f08534"
      },
      "execution_count": 30,
      "outputs": [
        {
          "output_type": "stream",
          "name": "stdout",
          "text": [
            "Enter the file name: villan.txt\n",
            "Enter content for the file:\n",
            "Hello i'm devil , just enter to the world with my wings\n",
            "File 'villan.txt' created successfully at:\n",
            "/content/villan.txt\n",
            "\n",
            "Reading file line by line:\n",
            "\n",
            "Hello i'm devil , just enter to the world with my wings\n"
          ]
        }
      ]
    },
    {
      "cell_type": "code",
      "source": [
        "#Use a lambda function in Python to sort a list of tuples based on the second element of each tuple.\n",
        "user_input = [('apple', 3), ('banana', 1), ('cherry', 2)]\n",
        "sorted_list = sorted(user_input, key=lambda x: x[1])\n",
        "print(sorted_list)"
      ],
      "metadata": {
        "id": "CsvuAzDUA3oK",
        "colab": {
          "base_uri": "https://localhost:8080/"
        },
        "outputId": "15cd112d-2105-493c-92cf-14ee2b900b97"
      },
      "execution_count": 31,
      "outputs": [
        {
          "output_type": "stream",
          "name": "stdout",
          "text": [
            "[('banana', 1), ('cherry', 2), ('apple', 3)]\n"
          ]
        }
      ]
    },
    {
      "cell_type": "code",
      "source": [
        "#Write a Python program that uses `map()` to convert a list of temperatures from Celsius to Fahrenheit.\n",
        "def celsius_to_fahrenheit(celsius):\n",
        "    return (celsius * 9/5) + 32\n",
        "\n",
        "celsius_temperatures = (0, 10, 20, 30, 40, 100)\n",
        "\n",
        "\n",
        "fahrenheit_temperatures = tuple(map(celsius_to_fahrenheit, celsius_temperatures))\n",
        "\n",
        "print(\"Celsius:\", celsius_temperatures)\n",
        "print(\"Fahrenheit:\", fahrenheit_temperatures)\n"
      ],
      "metadata": {
        "colab": {
          "base_uri": "https://localhost:8080/"
        },
        "id": "aTgiP9CdEGf4",
        "outputId": "8bf7df16-16eb-4f60-fb1b-f00f594b1dec"
      },
      "execution_count": 32,
      "outputs": [
        {
          "output_type": "stream",
          "name": "stdout",
          "text": [
            "Celsius: (0, 10, 20, 30, 40, 100)\n",
            "Fahrenheit: (32.0, 50.0, 68.0, 86.0, 104.0, 212.0)\n"
          ]
        }
      ]
    },
    {
      "cell_type": "code",
      "source": [
        "#Create a Python program that uses `filter()` to remove all the vowels from a given string.\n",
        "\n",
        "input_string = \"Hello, WOrld! Python is awesome.\"\n",
        "\n",
        "filtered_string = ''.join([char for char in input_string if char.lower() not in 'aeiou'])\n",
        "\n",
        "print(\"Original String:\", input_string)\n",
        "print(\"String without vowels:\", filtered_string)"
      ],
      "metadata": {
        "id": "39XjGL7eEqN2",
        "colab": {
          "base_uri": "https://localhost:8080/"
        },
        "outputId": "0a68e09a-cfe6-4811-b810-23c961c492f3"
      },
      "execution_count": 33,
      "outputs": [
        {
          "output_type": "stream",
          "name": "stdout",
          "text": [
            "Original String: Hello, WOrld! Python is awesome.\n",
            "String without vowels: Hll, Wrld! Pythn s wsm.\n"
          ]
        }
      ]
    },
    {
      "cell_type": "code",
      "source": [
        "#) Imagine an accounting routine used in a book shop. It works on a list with sublists, which look like this:\n",
        "#Write a Python program, which returns a list with 2-tuples. Each tuple consists of the order number and the\n",
        "#product of the price per item and the quantity. The product should be increased by 10,- € if the value of the\n",
        "#order is smaller than 100,00 €.\n",
        "\n",
        "#Write a Python program using lambda and map.\n",
        "\n",
        "orders = [\n",
        "    (34587, \"Learning Python, Mark Lutz\", 4, 40.95),\n",
        "    (98762, \"Programming Python, Mark Lutz\", 5, 56.80),\n",
        "    (77226, \"Head First Python, Paul Barry\", 3, 32.95),\n",
        "    (88112, \"Einführung in Python3, Bernd Klein\", 3, 24.99)\n",
        "]\n",
        "\n",
        "# Using lambda and map to process the orders\n",
        "final_orders = list(map(lambda x: (x[0], x[2] * x[3] if x[2] * x[3] >= 100 else x[2] * x[3] + 10), orders))\n",
        "\n",
        "# Printing the result\n",
        "print(final_orders)"
      ],
      "metadata": {
        "colab": {
          "base_uri": "https://localhost:8080/"
        },
        "id": "pnl-Oa7IG4v8",
        "outputId": "731802b8-eb8a-4ba3-9e6b-cd2247915379"
      },
      "execution_count": 34,
      "outputs": [
        {
          "output_type": "stream",
          "name": "stdout",
          "text": [
            "[(34587, 163.8), (98762, 284.0), (77226, 108.85000000000001), (88112, 84.97)]\n"
          ]
        }
      ]
    }
  ]
}